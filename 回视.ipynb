{
  "nbformat": 4,
  "nbformat_minor": 0,
  "metadata": {
    "colab": {
      "name": "回视.ipynb",
      "provenance": [],
      "collapsed_sections": [],
      "authorship_tag": "ABX9TyPs+OIpAEiKvOgD4yy3HZxv",
      "include_colab_link": true
    },
    "kernelspec": {
      "name": "python3",
      "display_name": "Python 3"
    },
    "language_info": {
      "name": "python"
    }
  },
  "cells": [
    {
      "cell_type": "markdown",
      "metadata": {
        "id": "view-in-github",
        "colab_type": "text"
      },
      "source": [
        "<a href=\"https://colab.research.google.com/github/Qukoyk/eyeTrackerRelated/blob/main/%E5%9B%9E%E8%A7%86.ipynb\" target=\"_parent\"><img src=\"https://colab.research.google.com/assets/colab-badge.svg\" alt=\"Open In Colab\"/></a>"
      ]
    },
    {
      "cell_type": "markdown",
      "source": [
        "#Tobii Pro Lab raw data文件兴趣区组间回视分析示例程序\n",
        "\n",
        "通过raw data文件中 AOI Tag 一栏，生成一览图和回视次数\n",
        "\n",
        "| 功能 | 状态 |\n",
        "| ---: | :----: |\n",
        "| 生成eventplot，辅助回视判读 | 完成 |\n",
        "| 回视次数输出 | 回视标准未定 |"
      ],
      "metadata": {
        "id": "D6O7-HYfjzaq"
      }
    },
    {
      "cell_type": "code",
      "execution_count": null,
      "metadata": {
        "colab": {
          "base_uri": "https://localhost:8080/",
          "height": 331
        },
        "id": "ryW3-4aMgVHv",
        "outputId": "2c93d81a-7d40-4d4f-c599-acfcf0c5520b"
      },
      "outputs": [
        {
          "output_type": "stream",
          "name": "stdout",
          "text": [
            "Drive already mounted at /content/drive; to attempt to forcibly remount, call drive.mount(\"/content/drive\", force_remount=True).\n"
          ]
        },
        {
          "output_type": "stream",
          "name": "stderr",
          "text": [
            "/usr/local/lib/python3.7/dist-packages/IPython/core/interactiveshell.py:2718: DtypeWarning: Columns (24,80,81) have mixed types.Specify dtype option on import or set low_memory=False.\n",
            "  interactivity=interactivity, compiler=compiler, result=result)\n"
          ]
        },
        {
          "output_type": "display_data",
          "data": {
            "image/png": "[encoded data removed]",
            "text/plain": [
              "<Figure size 1080x288 with 1 Axes>"
            ]
          },
          "metadata": {
            "needs_background": "light"
          }
        }
      ],
      "source": [
        "#!/usr/bin/env python\n",
        "# -*- coding: utf-8 -*-\n",
        " \n",
        "'''\n",
        " \n",
        "回视.py\n",
        " \n",
        "Tobii Pro Lab raw data文件兴趣区组间回视分析示例程序\n",
        "·生成eventplot，辅助回视判读 完成\n",
        "·回视次数输出 回视标准未定 待敲定\n",
        " \n",
        "Created by: Ruoheng \"Qukoyk\" Qu from Noldus China\n",
        "            2022/01/27\n",
        " \n",
        "'''\n",
        "\n",
        "import matplotlib.pyplot as plt\n",
        "import pandas as pd\n",
        "from google.colab import drive\n",
        "\n",
        "# 指定画布尺寸，默认输出长图\n",
        "plt.rcParams['figure.figsize'] = (15,4)\n",
        "\n",
        "\n",
        "# 数据文件路径\n",
        "# 本机\n",
        "# dataFile = 'C:/Users/Qukoyk/Desktop/北师大 Data Export utf8.tsv'\n",
        "# Google Colab\n",
        "drive.mount('/content/drive')\n",
        "dataFile = '/content/drive/My Drive/北师大 Data Export.tsv'\n",
        "\n",
        "# 读取raw data中AOI Tag一列\n",
        "df = pd.read_csv(dataFile,sep='\\t')['内容']\n",
        "# 筛出文字和图片区\n",
        "dfText = df[df == '文字'].index.tolist()\n",
        "dfPic = df[df == '图片'].index.tolist()\n",
        "# 组合\n",
        "listAll = [dfText, dfPic]\n",
        "\n",
        "# # 输出回视次数\n",
        "# noNan = df.dropna()\n",
        "# noNanList = noNan.values.tolist()\n",
        "# idxList = []\n",
        "# idxList = noNan.index\n",
        "# with open(dataFile) as myFile:\n",
        "#     fileReader = csv.reader(myFile, delimiter='t')\n",
        "#     for row in fileReader:\n",
        "#         print(row)\n",
        "\n",
        "# counter = 0\n",
        "# resultCounter = 0\n",
        "# listLen = len(noNanList)\n",
        "\n",
        "# for i in noNanList:\n",
        "#     if noNanList[counter+1] != i:\n",
        "#         resultCounter = resultCounter + 1\n",
        "#     if counter < listLen-2:\n",
        "#         counter = counter + 1\n",
        "\n",
        "# print(resultCounter/2)\n",
        "\n",
        "\n",
        "# 作图相关\n",
        "lineoffsets1 = [0, 1]\n",
        "colors1 = ['C{}'.format(i) for i in range(2)]\n",
        "ax = plt.gca()\n",
        "ax.set_yticks(lineoffsets1)\n",
        "ax.set_yticklabels(['Text','Pic'])\n",
        "plt.xlabel('Latency (s)')\n",
        "plt.ylabel('AOI Group')\n",
        "plt.eventplot(listAll,colors=colors1)\n",
        "plt.show()\n"
      ]
    }
  ]
}